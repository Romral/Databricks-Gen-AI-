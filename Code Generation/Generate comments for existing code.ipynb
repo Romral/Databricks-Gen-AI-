{
 "cells": [
  {
   "cell_type": "code",
   "execution_count": 0,
   "metadata": {
    "application/vnd.databricks.v1+cell": {
     "cellMetadata": {
      "byteLimit": 2048000,
      "rowLimit": 10000
     },
     "inputWidgets": {},
     "nuid": "2137e5dd-6950-4473-8cae-a4503a05e9f2",
     "showTitle": false,
     "tableResultSettingsMap": {},
     "title": ""
    },
    "id": "Erpv4lchmZN8"
   },
   "outputs": [
    {
     "output_type": "stream",
     "name": "stdout",
     "output_type": "stream",
     "text": [
      "Created and wrote to file: function.py\n"
     ]
    }
   ],
   "source": [
    "def create_function_file():\n",
    "    function_code = \"\"\"\n",
    "def factorial(n):\n",
    "    if n < 0:\n",
    "        raise ValueError(\"Factorial is not defined for negative numbers.\")\n",
    "    if n == 0 or n == 1:\n",
    "        return 1  \n",
    "    return n * factorial(n - 1)\n",
    "\"\"\"\n",
    "\n",
    "    with open('function.py', 'w') as file:\n",
    "        file.write(function_code)\n",
    "\n",
    "    print(\"Created and wrote to file: function.py\")\n",
    "\n",
    "if __name__ == \"__main__\":\n",
    "    create_function_file()"
   ]
  },
  {
   "cell_type": "code",
   "execution_count": 0,
   "metadata": {
    "application/vnd.databricks.v1+cell": {
     "cellMetadata": {
      "byteLimit": 2048000,
      "rowLimit": 10000
     },
     "inputWidgets": {},
     "nuid": "b44aeb25-a82e-463d-b27a-efb31221c6ac",
     "showTitle": false,
     "tableResultSettingsMap": {},
     "title": ""
    },
    "id": "VXLVxYfAmZOA"
   },
   "outputs": [
    {
     "output_type": "stream",
     "name": "stdout",
     "output_type": "stream",
     "text": [
      "Created file: app.txt\n"
     ]
    }
   ],
   "source": [
    "# Creating an empty text file named app.txt\n",
    "file_name = 'app.txt'\n",
    "\n",
    "with open(file_name, 'w') as file:\n",
    "    pass\n",
    "\n",
    "print(f\"Created file: {file_name}\")"
   ]
  },
  {
   "cell_type": "code",
   "execution_count": 0,
   "metadata": {
    "application/vnd.databricks.v1+cell": {
     "cellMetadata": {
      "byteLimit": 2048000,
      "rowLimit": 10000
     },
     "inputWidgets": {},
     "nuid": "1fe1bc88-9d3e-4e3c-a2e1-d1d841ed3e21",
     "showTitle": false,
     "tableResultSettingsMap": {},
     "title": ""
    },
    "id": "rhzA2QmInOpt"
   },
   "outputs": [
    {
     "output_type": "stream",
     "name": "stdout",
     "output_type": "stream",
     "text": [
      "\u001B[43mNote: you may need to restart the kernel using dbutils.library.restartPython() to use updated packages.\u001B[0m\nCollecting openai==1.13.3\n  Downloading openai-1.13.3-py3-none-any.whl (227 kB)\n     ━━━━━━━━━━━━━━━━━━━━━━━━━━━━━━━━━━━━━━━ 227.4/227.4 kB 5.3 MB/s eta 0:00:00\nCollecting typing-extensions<5,>=4.7\n  Downloading typing_extensions-4.12.2-py3-none-any.whl (37 kB)\nRequirement already satisfied: distro<2,>=1.7.0 in /usr/lib/python3/dist-packages (from openai==1.13.3) (1.7.0)\nCollecting httpx<1,>=0.23.0\n  Downloading httpx-0.27.2-py3-none-any.whl (76 kB)\n     ━━━━━━━━━━━━━━━━━━━━━━━━━━━━━━━━━━━━━━━━ 76.4/76.4 kB 9.4 MB/s eta 0:00:00\nRequirement already satisfied: sniffio in /databricks/python3/lib/python3.10/site-packages (from openai==1.13.3) (1.2.0)\nRequirement already satisfied: anyio<5,>=3.5.0 in /databricks/python3/lib/python3.10/site-packages (from openai==1.13.3) (3.5.0)\nRequirement already satisfied: pydantic<3,>=1.9.0 in /databricks/python3/lib/python3.10/site-packages (from openai==1.13.3) (1.10.6)\nRequirement already satisfied: tqdm>4 in /databricks/python3/lib/python3.10/site-packages (from openai==1.13.3) (4.64.1)\nRequirement already satisfied: idna>=2.8 in /databricks/python3/lib/python3.10/site-packages (from anyio<5,>=3.5.0->openai==1.13.3) (3.4)\nRequirement already satisfied: certifi in /databricks/python3/lib/python3.10/site-packages (from httpx<1,>=0.23.0->openai==1.13.3) (2022.12.7)\nCollecting httpcore==1.*\n  Downloading httpcore-1.0.7-py3-none-any.whl (78 kB)\n     ━━━━━━━━━━━━━━━━━━━━━━━━━━━━━━━━━━━━━━━━ 78.6/78.6 kB 8.0 MB/s eta 0:00:00\nCollecting h11<0.15,>=0.13\n  Downloading h11-0.14.0-py3-none-any.whl (58 kB)\n     ━━━━━━━━━━━━━━━━━━━━━━━━━━━━━━━━━━━━━━━━ 58.3/58.3 kB 6.5 MB/s eta 0:00:00\nInstalling collected packages: typing-extensions, h11, httpcore, httpx, openai\n  Attempting uninstall: typing-extensions\n    Found existing installation: typing_extensions 4.4.0\n    Not uninstalling typing-extensions at /databricks/python3/lib/python3.10/site-packages, outside environment /local_disk0/.ephemeral_nfs/envs/pythonEnv-c8d9999c-df4c-4096-9a24-04589bbfbe0d\n    Can't uninstall 'typing_extensions'. No files were found to uninstall.\n  Attempting uninstall: openai\n    Found existing installation: openai 0.28.1\n    Not uninstalling openai at /databricks/python3/lib/python3.10/site-packages, outside environment /local_disk0/.ephemeral_nfs/envs/pythonEnv-c8d9999c-df4c-4096-9a24-04589bbfbe0d\n    Can't uninstall 'openai'. No files were found to uninstall.\nSuccessfully installed h11-0.14.0 httpcore-1.0.7 httpx-0.27.2 openai-1.13.3 typing-extensions-4.12.2\n\u001B[43mNote: you may need to restart the kernel using dbutils.library.restartPython() to use updated packages.\u001B[0m\n"
     ]
    }
   ],
   "source": [
    "!pip install openai==1.13.3"
   ]
  },
  {
   "cell_type": "code",
   "execution_count": 0,
   "metadata": {
    "application/vnd.databricks.v1+cell": {
     "cellMetadata": {
      "byteLimit": 2048000,
      "rowLimit": 10000
     },
     "inputWidgets": {},
     "nuid": "2ac8085a-6221-40e3-ae14-f338d871f092",
     "showTitle": false,
     "tableResultSettingsMap": {},
     "title": ""
    }
   },
   "outputs": [],
   "source": [
    "dbutils.library.restartPython()"
   ]
  },
  {
   "cell_type": "code",
   "execution_count": 0,
   "metadata": {
    "application/vnd.databricks.v1+cell": {
     "cellMetadata": {
      "byteLimit": 2048000,
      "rowLimit": 10000
     },
     "inputWidgets": {},
     "nuid": "c5bc4275-082e-4881-9337-a5decc558e98",
     "showTitle": false,
     "tableResultSettingsMap": {},
     "title": ""
    },
    "id": "2nQMKZ8znVLW"
   },
   "outputs": [],
   "source": [
    "import asyncio\n",
    "from openai import AsyncAzureOpenAI"
   ]
  },
  {
   "cell_type": "code",
   "execution_count": 0,
   "metadata": {
    "application/vnd.databricks.v1+cell": {
     "cellMetadata": {
      "byteLimit": 2048000,
      "rowLimit": 10000
     },
     "inputWidgets": {},
     "nuid": "06dcde4a-492d-4aca-a9a6-539470494ab7",
     "showTitle": false,
     "tableResultSettingsMap": {},
     "title": ""
    },
    "id": "BmPGJhzpmZOP"
   },
   "outputs": [],
   "source": [
    "\n",
    "\n",
    "# Set to True to print the full response from OpenAI for each call\n",
    "printFullResponse = True\n",
    "\n",
    "async def main():\n",
    "  try:\n",
    "        # Get configuration settings\n",
    "        # Configuration settings\n",
    "        azure_oai_endpoint =\"\"\n",
    "        azure_oai_key =\"\"\n",
    "        azure_oai_deployment =\"mygptmodel\"\n",
    "\n",
    "        # Configure the Azure OpenAI client\n",
    "        client = AsyncAzureOpenAI(\n",
    "            azure_endpoint = azure_oai_endpoint,\n",
    "            api_key=azure_oai_key,\n",
    "            api_version=\"2024-02-15-preview\"\n",
    "        )\n",
    "\n",
    "        while True:\n",
    "            print('Generate Code with Comments')\n",
    "            print('Type quit to finish')\n",
    "            user_input = input('Enter instructions for the style of comments:')\n",
    "\n",
    "            if user_input.lower() == 'quit':\n",
    "                print('Exiting program...')\n",
    "                break\n",
    "\n",
    "            file = open(file=\"function.py\", encoding=\"utf8\").read()\n",
    "\n",
    "            prompt = user_input + file\n",
    "            await call_openai_model(prompt, model=azure_oai_deployment, client=client)\n",
    "\n",
    "  except Exception as ex:\n",
    "        print(ex)\n",
    "\n",
    "\n"
   ]
  },
  {
   "cell_type": "code",
   "execution_count": 0,
   "metadata": {
    "application/vnd.databricks.v1+cell": {
     "cellMetadata": {
      "byteLimit": 2048000,
      "rowLimit": 10000
     },
     "inputWidgets": {},
     "nuid": "c6fe9050-d5d3-49eb-b4d9-1854a5056b0c",
     "showTitle": false,
     "tableResultSettingsMap": {},
     "title": ""
    },
    "id": "t-DWkZ0ImvrZ"
   },
   "outputs": [],
   "source": [
    "async def call_openai_model(prompt, model, client):\n",
    "    # Provide a basic user message, and use the prompt content as the user message\n",
    "    system_message = \"You are a helpful AI assistant that helps programmers write code.\"\n",
    "    user_message = prompt\n",
    "\n",
    "    # Format and send the request to the model\n",
    "    messages =[\n",
    "        {\"role\": \"system\", \"content\": system_message},\n",
    "        {\"role\": \"user\", \"content\": user_message},\n",
    "    ]\n",
    "\n",
    "    # Call the Azure OpenAI model\n",
    "    response = await client.chat.completions.create(\n",
    "        model=model,\n",
    "        messages=messages,\n",
    "        temperature=0.7,\n",
    "        max_tokens=1000\n",
    "    )\n",
    "\n",
    "    # Print the response to the console, if desired\n",
    "    if printFullResponse:\n",
    "        print(response.choices[0].message.content)\n",
    "\n",
    "    # Write the response to a file\n",
    "    results_file = open(file=\"app.txt\", mode=\"w\", encoding=\"utf8\")\n",
    "    results_file.write(response.choices[0].message.content)\n",
    "    print(\"\\nResponse written to result/app.txt\\n\\n\")\n"
   ]
  },
  {
   "cell_type": "code",
   "execution_count": 0,
   "metadata": {
    "application/vnd.databricks.v1+cell": {
     "cellMetadata": {
      "byteLimit": 2048000,
      "rowLimit": 10000
     },
     "inputWidgets": {},
     "nuid": "9d5bac9d-ae87-42ad-a79e-c9608c978930",
     "showTitle": false,
     "tableResultSettingsMap": {},
     "title": ""
    },
    "id": "tDoRyK1Am3In"
   },
   "outputs": [
    {
     "output_type": "stream",
     "name": "stdout",
     "output_type": "stream",
     "text": [
      "Generate Code with Comments\nType quit to finish\n"
     ]
    },
    {
     "output_type": "display_data",
     "data": {
      "text/plain": [
       "Enter instructions for the style of comments: Please summarize the whole function as comments after the function definition."
      ]
     },
     "metadata": {},
     "output_type": "display_data"
    },
    {
     "output_type": "stream",
     "name": "stdout",
     "output_type": "stream",
     "text": [
      "The function `factorial` calculates the factorial of a given number `n`. \n\n- If `n` is less than 0, it raises a `ValueError` with the message \"Factorial is not defined for negative numbers.\"\n- If `n` is 0 or 1, it returns 1.\n- Otherwise, it recursively calls itself with `n-1` and multiplies the result by `n` to calculate the factorial of `n`.\n\nResponse written to result/app.txt\n\n\nGenerate Code with Comments\nType quit to finish\n"
     ]
    },
    {
     "output_type": "display_data",
     "data": {
      "text/plain": [
       "Enter instructions for the style of comments: Please help me generate a comment after each line, describing each line of the function."
      ]
     },
     "metadata": {},
     "output_type": "display_data"
    },
    {
     "output_type": "stream",
     "name": "stdout",
     "output_type": "stream",
     "text": [
      "# This function calculates the factorial of a given number.\ndef factorial(n):\n    # Check if the number is negative. If it is, raise a ValueError.\n    if n < 0:\n        raise ValueError(\"Factorial is not defined for negative numbers.\")\n    \n    # Check if the number is 0 or 1. If it is, return 1.\n    if n == 0 or n == 1:\n        return 1  \n    \n    # Calculate the factorial recursively by multiplying the number with the factorial of (n-1).\n    return n * factorial(n - 1)\n\nResponse written to result/app.txt\n\n\nGenerate Code with Comments\nType quit to finish\n"
     ]
    },
    {
     "output_type": "display_data",
     "data": {
      "text/plain": [
       "Enter instructions for the style of comments: quit"
      ]
     },
     "metadata": {},
     "output_type": "display_data"
    },
    {
     "output_type": "stream",
     "name": "stdout",
     "output_type": "stream",
     "text": [
      "Exiting program...\n"
     ]
    }
   ],
   "source": [
    "# Run the main function in the event loop\n",
    "await main()"
   ]
  },
  {
   "cell_type": "code",
   "execution_count": 0,
   "metadata": {
    "application/vnd.databricks.v1+cell": {
     "cellMetadata": {
      "byteLimit": 2048000,
      "rowLimit": 10000
     },
     "inputWidgets": {},
     "nuid": "9b193077-c7f8-4c8d-b960-0ed4d4932bb6",
     "showTitle": false,
     "tableResultSettingsMap": {},
     "title": ""
    },
    "id": "vJGBuL6Rrds9"
   },
   "outputs": [],
   "source": []
  }
 ],
 "metadata": {
  "application/vnd.databricks.v1+notebook": {
   "dashboards": [],
   "environmentMetadata": null,
   "language": "python",
   "notebookMetadata": {
    "pythonIndentUnit": 2
   },
   "notebookName": "Weekly Assignment 2",
   "widgets": {}
  },
  "colab": {
   "provenance": []
  },
  "kernelspec": {
   "display_name": "Python 3",
   "language": "python",
   "name": "python3"
  },
  "language_info": {
   "name": "python"
  }
 },
 "nbformat": 4,
 "nbformat_minor": 0
}
