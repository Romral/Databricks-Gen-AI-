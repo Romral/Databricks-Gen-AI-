{
 "cells": [
  {
   "cell_type": "code",
   "execution_count": 0,
   "metadata": {
    "application/vnd.databricks.v1+cell": {
     "cellMetadata": {
      "byteLimit": 2048000,
      "rowLimit": 10000
     },
     "inputWidgets": {},
     "nuid": "b44aeb25-a82e-463d-b27a-efb31221c6ac",
     "showTitle": false,
     "tableResultSettingsMap": {},
     "title": ""
    },
    "id": "VXLVxYfAmZOA"
   },
   "outputs": [
    {
     "output_type": "stream",
     "name": "stdout",
     "output_type": "stream",
     "text": [
      "Created file: app.txt\n"
     ]
    }
   ],
   "source": [
    "# Creating an empty text file named app.txt\n",
    "file_name = 'app.txt'\n",
    "\n",
    "with open(file_name, 'w') as file:\n",
    "    pass\n",
    "\n",
    "print(f\"Created file: {file_name}\")"
   ]
  },
  {
   "cell_type": "code",
   "execution_count": 0,
   "metadata": {
    "application/vnd.databricks.v1+cell": {
     "cellMetadata": {
      "byteLimit": 2048000,
      "rowLimit": 10000
     },
     "inputWidgets": {},
     "nuid": "1fe1bc88-9d3e-4e3c-a2e1-d1d841ed3e21",
     "showTitle": false,
     "tableResultSettingsMap": {},
     "title": ""
    },
    "id": "rhzA2QmInOpt"
   },
   "outputs": [
    {
     "output_type": "stream",
     "name": "stdout",
     "output_type": "stream",
     "text": [
      "\u001B[43mNote: you may need to restart the kernel using dbutils.library.restartPython() to use updated packages.\u001B[0m\nRequirement already satisfied: openai==1.13.3 in /local_disk0/.ephemeral_nfs/envs/pythonEnv-a8e5b6ae-96de-4623-b4cc-c1c82b570168/lib/python3.10/site-packages (1.13.3)\nRequirement already satisfied: httpx<1,>=0.23.0 in /local_disk0/.ephemeral_nfs/envs/pythonEnv-a8e5b6ae-96de-4623-b4cc-c1c82b570168/lib/python3.10/site-packages (from openai==1.13.3) (0.27.2)\nRequirement already satisfied: sniffio in /databricks/python3/lib/python3.10/site-packages (from openai==1.13.3) (1.2.0)\nRequirement already satisfied: distro<2,>=1.7.0 in /usr/lib/python3/dist-packages (from openai==1.13.3) (1.7.0)\nRequirement already satisfied: anyio<5,>=3.5.0 in /databricks/python3/lib/python3.10/site-packages (from openai==1.13.3) (3.5.0)\nRequirement already satisfied: typing-extensions<5,>=4.7 in /local_disk0/.ephemeral_nfs/envs/pythonEnv-a8e5b6ae-96de-4623-b4cc-c1c82b570168/lib/python3.10/site-packages (from openai==1.13.3) (4.12.2)\nRequirement already satisfied: tqdm>4 in /databricks/python3/lib/python3.10/site-packages (from openai==1.13.3) (4.64.1)\nRequirement already satisfied: pydantic<3,>=1.9.0 in /databricks/python3/lib/python3.10/site-packages (from openai==1.13.3) (1.10.6)\nRequirement already satisfied: idna>=2.8 in /databricks/python3/lib/python3.10/site-packages (from anyio<5,>=3.5.0->openai==1.13.3) (3.4)\nRequirement already satisfied: httpcore==1.* in /local_disk0/.ephemeral_nfs/envs/pythonEnv-a8e5b6ae-96de-4623-b4cc-c1c82b570168/lib/python3.10/site-packages (from httpx<1,>=0.23.0->openai==1.13.3) (1.0.7)\nRequirement already satisfied: certifi in /databricks/python3/lib/python3.10/site-packages (from httpx<1,>=0.23.0->openai==1.13.3) (2022.12.7)\nRequirement already satisfied: h11<0.15,>=0.13 in /local_disk0/.ephemeral_nfs/envs/pythonEnv-a8e5b6ae-96de-4623-b4cc-c1c82b570168/lib/python3.10/site-packages (from httpcore==1.*->httpx<1,>=0.23.0->openai==1.13.3) (0.14.0)\n\u001B[43mNote: you may need to restart the kernel using dbutils.library.restartPython() to use updated packages.\u001B[0m\n"
     ]
    }
   ],
   "source": [
    "!pip install openai==1.13.3"
   ]
  },
  {
   "cell_type": "code",
   "execution_count": 0,
   "metadata": {
    "application/vnd.databricks.v1+cell": {
     "cellMetadata": {
      "byteLimit": 2048000,
      "rowLimit": 10000
     },
     "inputWidgets": {},
     "nuid": "2ac8085a-6221-40e3-ae14-f338d871f092",
     "showTitle": false,
     "tableResultSettingsMap": {},
     "title": ""
    }
   },
   "outputs": [],
   "source": [
    "dbutils.library.restartPython()"
   ]
  },
  {
   "cell_type": "code",
   "execution_count": 0,
   "metadata": {
    "application/vnd.databricks.v1+cell": {
     "cellMetadata": {
      "byteLimit": 2048000,
      "rowLimit": 10000
     },
     "inputWidgets": {},
     "nuid": "c5bc4275-082e-4881-9337-a5decc558e98",
     "showTitle": false,
     "tableResultSettingsMap": {},
     "title": ""
    },
    "id": "2nQMKZ8znVLW"
   },
   "outputs": [],
   "source": [
    "import asyncio\n",
    "from openai import AsyncAzureOpenAI"
   ]
  },
  {
   "cell_type": "code",
   "execution_count": 0,
   "metadata": {
    "application/vnd.databricks.v1+cell": {
     "cellMetadata": {
      "byteLimit": 2048000,
      "rowLimit": 10000
     },
     "inputWidgets": {},
     "nuid": "06dcde4a-492d-4aca-a9a6-539470494ab7",
     "showTitle": false,
     "tableResultSettingsMap": {},
     "title": ""
    },
    "id": "BmPGJhzpmZOP"
   },
   "outputs": [],
   "source": [
    "\n",
    "\n",
    "# Set to True to print the full response from OpenAI for each call\n",
    "printFullResponse = True\n",
    "\n",
    "async def main():\n",
    "  try:\n",
    "        # Get configuration settings\n",
    "        # Configuration settings\n",
    "        azure_oai_endpoint =\"\"\n",
    "        azure_oai_key =\"\"\n",
    "        azure_oai_deployment =\"mygptmodel\"\n",
    "\n",
    "        # Configure the Azure OpenAI client\n",
    "        client = AsyncAzureOpenAI(\n",
    "            azure_endpoint = azure_oai_endpoint,\n",
    "            api_key=azure_oai_key,\n",
    "            api_version=\"2024-02-15-preview\"\n",
    "        )\n",
    "\n",
    "        while True:\n",
    "            print('Generate Code with Comments')\n",
    "            print('Type quit to finish')\n",
    "            user_input = input('Enter the code you would want to generate:')\n",
    "\n",
    "            if user_input.lower() == 'quit':\n",
    "                print('Exiting program...')\n",
    "                break\n",
    "            prompt = f\"\"\"\n",
    "                        Generate Python code with detailed comments. The code should fulfill the following requirements:\n",
    "                        {user_input}\n",
    "                        \"\"\"\n",
    "            await call_openai_model(prompt, model=azure_oai_deployment, client=client)\n",
    "\n",
    "  except Exception as ex:\n",
    "        print(ex)\n",
    "\n",
    "\n"
   ]
  },
  {
   "cell_type": "code",
   "execution_count": 0,
   "metadata": {
    "application/vnd.databricks.v1+cell": {
     "cellMetadata": {
      "byteLimit": 2048000,
      "rowLimit": 10000
     },
     "inputWidgets": {},
     "nuid": "c6fe9050-d5d3-49eb-b4d9-1854a5056b0c",
     "showTitle": false,
     "tableResultSettingsMap": {},
     "title": ""
    },
    "id": "t-DWkZ0ImvrZ"
   },
   "outputs": [],
   "source": [
    "async def call_openai_model(prompt, model, client):\n",
    "    # Provide a basic user message, and use the prompt content as the user message\n",
    "    system_message = \"You are a helpful AI assistant that helps programmers write code.\"\n",
    "    user_message = prompt\n",
    "\n",
    "    # Format and send the request to the model\n",
    "    messages =[\n",
    "        {\"role\": \"system\", \"content\": system_message},\n",
    "        {\"role\": \"user\", \"content\": user_message},\n",
    "    ]\n",
    "\n",
    "    # Call the Azure OpenAI model\n",
    "    response = await client.chat.completions.create(\n",
    "        model=model,\n",
    "        messages=messages,\n",
    "        temperature=0.7,\n",
    "        max_tokens=1000\n",
    "    )\n",
    "\n",
    "    # Print the response to the console, if desired\n",
    "    if printFullResponse:\n",
    "        print(response.choices[0].message.content)\n",
    "\n",
    "    # Write the response to a file\n",
    "    results_file = open(file=\"app.txt\", mode=\"w\", encoding=\"utf8\")\n",
    "    results_file.write(response.choices[0].message.content)\n",
    "    print(\"\\nResponse written to result/app.txt\\n\\n\")\n"
   ]
  },
  {
   "cell_type": "code",
   "execution_count": 0,
   "metadata": {
    "application/vnd.databricks.v1+cell": {
     "cellMetadata": {
      "byteLimit": 2048000,
      "rowLimit": 10000
     },
     "inputWidgets": {},
     "nuid": "9d5bac9d-ae87-42ad-a79e-c9608c978930",
     "showTitle": false,
     "tableResultSettingsMap": {},
     "title": ""
    },
    "id": "tDoRyK1Am3In"
   },
   "outputs": [
    {
     "output_type": "stream",
     "name": "stdout",
     "output_type": "stream",
     "text": [
      "Generate Code with Comments\nType quit to finish\n"
     ]
    },
    {
     "output_type": "display_data",
     "data": {
      "text/plain": [
       "Enter the code you would want to generate: generate code for Factorial of a number"
      ]
     },
     "metadata": {},
     "output_type": "display_data"
    },
    {
     "output_type": "stream",
     "name": "stdout",
     "output_type": "stream",
     "text": [
      "Sure! Here's a Python code snippet that calculates the factorial of a number:\n\n```python\ndef factorial(n):\n    \"\"\"\n    Calculate the factorial of a given number.\n\n    Parameters:\n        n (int): The number for which factorial needs to be calculated.\n\n    Returns:\n        int: The factorial of the given number.\n    \"\"\"\n\n    # Check if the input is a positive integer\n    if not isinstance(n, int) or n < 0:\n        raise ValueError(\"Input must be a positive integer.\")\n\n    # Base case: factorial of 0 is 1\n    if n == 0:\n        return 1\n    \n    # Recursive step: calculate factorial using recursion\n    return n * factorial(n - 1)\n```\n\nThis code defines a function called `factorial` that takes an integer `n` as input and calculates its factorial. It includes detailed comments to explain the purpose and functionality of each part of the code. The code also performs input validation to ensure that the input is a positive integer.\n\nYou can use this code by calling the `factorial` function and passing the desired number as an argument. For example:\n\n```python\nnumber = 5\nresult = factorial(number)\nprint(f\"The factorial of {number} is {result}.\")\n```\n\nThis will output: \"The factorial of 5 is 120.\"\n\nResponse written to result/app.txt\n\n\nGenerate Code with Comments\nType quit to finish\n"
     ]
    },
    {
     "output_type": "display_data",
     "data": {
      "text/plain": [
       "Enter the code you would want to generate: generate code for bubble sort"
      ]
     },
     "metadata": {},
     "output_type": "display_data"
    },
    {
     "output_type": "stream",
     "name": "stdout",
     "output_type": "stream",
     "text": [
      "Sure! Here's an example of Python code for the Bubble Sort algorithm:\n\n```python\ndef bubble_sort(arr):\n    \"\"\"\n    This function performs bubble sort on a given list.\n\n    Args:\n        arr (list): The list to be sorted.\n\n    Returns:\n        list: The sorted list.\n    \"\"\"\n    n = len(arr)\n\n    # Traverse through all array elements\n    for i in range(n - 1):\n        \n        # Last i elements are already in place\n        for j in range(0, n - i - 1):\n            \n            # Traverse the array from 0 to n-i-1\n            # Swap if the element found is greater\n            # than the next element\n            if arr[j] > arr[j + 1]:\n                arr[j], arr[j + 1] = arr[j + 1], arr[j]\n\n    return arr\n```\n\nIn this code, the `bubble_sort` function takes an input list `arr` and performs the Bubble Sort algorithm on it. The function uses two nested loops to compare adjacent elements and swap them if they are in the wrong order. This process is repeated until the entire list is sorted. The sorted list is then returned.\n\nHope this helps! Let me know if you have any other questions.\n\nResponse written to result/app.txt\n\n\nGenerate Code with Comments\nType quit to finish\n"
     ]
    },
    {
     "output_type": "display_data",
     "data": {
      "text/plain": [
       "Enter the code you would want to generate: quit"
      ]
     },
     "metadata": {},
     "output_type": "display_data"
    },
    {
     "output_type": "stream",
     "name": "stdout",
     "output_type": "stream",
     "text": [
      "Exiting program...\n"
     ]
    }
   ],
   "source": [
    "# Run the main function in the event loop\n",
    "await main()"
   ]
  },
  {
   "cell_type": "code",
   "execution_count": 0,
   "metadata": {
    "application/vnd.databricks.v1+cell": {
     "cellMetadata": {
      "byteLimit": 2048000,
      "rowLimit": 10000
     },
     "inputWidgets": {},
     "nuid": "9b193077-c7f8-4c8d-b960-0ed4d4932bb6",
     "showTitle": false,
     "tableResultSettingsMap": {},
     "title": ""
    },
    "id": "vJGBuL6Rrds9"
   },
   "outputs": [],
   "source": []
  }
 ],
 "metadata": {
  "application/vnd.databricks.v1+notebook": {
   "dashboards": [],
   "environmentMetadata": null,
   "language": "python",
   "notebookMetadata": {
    "pythonIndentUnit": 2
   },
   "notebookName": "Code Generation with Comments",
   "widgets": {}
  },
  "colab": {
   "provenance": []
  },
  "kernelspec": {
   "display_name": "Python 3",
   "language": "python",
   "name": "python3"
  },
  "language_info": {
   "name": "python"
  }
 },
 "nbformat": 4,
 "nbformat_minor": 0
}
